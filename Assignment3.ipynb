{
 "cells": [
  {
   "cell_type": "markdown",
   "id": "46b8a6df-91df-45cc-a58e-f8b216073806",
   "metadata": {},
   "source": [
    "Q1. Which keyword is used to create a function? Create a function to return a list of odd numbers in the\n",
    "range of 1 to 25.\n",
    "\n",
    "Ans. def keyword is used to create  a fuction. Fuction to return a list of add numbers is given below:"
   ]
  },
  {
   "cell_type": "code",
   "execution_count": 24,
   "id": "b11c3a33-11c1-4e1c-b220-708331e81dda",
   "metadata": {},
   "outputs": [],
   "source": [
    "\n",
    "def get_odd_numbers():\n",
    "    odd_numbers = []\n",
    "    for i in range(1,26):\n",
    "        if i % 2 != 0:\n",
    "            odd_numbers.append(i)\n",
    "    return odd_numbers\n",
    "    "
   ]
  },
  {
   "cell_type": "code",
   "execution_count": 27,
   "id": "2404c91a-f7d0-4303-b62a-9efbf6f55a48",
   "metadata": {},
   "outputs": [
    {
     "data": {
      "text/plain": [
       "[1, 3, 5, 7, 9, 11, 13, 15, 17, 19, 21, 23, 25]"
      ]
     },
     "execution_count": 27,
     "metadata": {},
     "output_type": "execute_result"
    }
   ],
   "source": [
    "get_odd_numbers()"
   ]
  },
  {
   "cell_type": "markdown",
   "id": "14232ca5-4579-4040-b4b3-b2122a23a6d2",
   "metadata": {},
   "source": [
    "Q2. Why *args and **kwargs is used in some functions? Create a function each for *args and **kwargs\n",
    "to demonstrate their use.\n",
    "\n",
    "Ans. *args and **kwargs is used in some fuction definitions to allow a function to accept varible number of arguments.They are often used \n",
    "when you are not sure how many arguments will be passed to a function .\n",
    "\n",
    "*args: It stands for \"arguments\" and is used to pass a variable number of non-keyword arguments to a function. It collects the extra positional arguments as a tuple.\n",
    "\n",
    "**kwargs: It stands for \"keyword arguments \" and is used to pass a variable number of keyword arguments (or named arguments) to a function. It collects the extra keyword arguments as a dictionary. \n",
    "\n",
    "Function for each is as following:"
   ]
  },
  {
   "cell_type": "code",
   "execution_count": 28,
   "id": "05f7651f-654c-4c4e-ad50-2e1b5e828753",
   "metadata": {},
   "outputs": [],
   "source": [
    "def print_args(*args):\n",
    "    return args"
   ]
  },
  {
   "cell_type": "code",
   "execution_count": 29,
   "id": "a1e83670-068a-47e4-93f7-9bba7e4f6f3e",
   "metadata": {},
   "outputs": [
    {
     "data": {
      "text/plain": [
       "(1, 3, 4, 5, 'akul dahiya', [1, 3, 5, 6])"
      ]
     },
     "execution_count": 29,
     "metadata": {},
     "output_type": "execute_result"
    }
   ],
   "source": [
    "print_args(1,3,4,5,\"akul dahiya\",[1,3,5,6])"
   ]
  },
  {
   "cell_type": "code",
   "execution_count": 30,
   "id": "0a1629e8-265d-44a2-ac47-b8e8812988d3",
   "metadata": {},
   "outputs": [],
   "source": [
    "def print_kwargs(**kwargs):\n",
    "    return kwargs"
   ]
  },
  {
   "cell_type": "code",
   "execution_count": 31,
   "id": "6977d2b7-6a00-44ea-931b-e7adb85fd911",
   "metadata": {},
   "outputs": [
    {
     "data": {
      "text/plain": [
       "{'a': 'python', 'b': 454.234, 'c': [2, 45, 34, 32], 'd': True}"
      ]
     },
     "execution_count": 31,
     "metadata": {},
     "output_type": "execute_result"
    }
   ],
   "source": [
    "print_kwargs(a = \"python\" , b = 454.234 , c = [2,45,34,32] , d = True)"
   ]
  },
  {
   "cell_type": "markdown",
   "id": "c879d08b-f03a-4260-b8a5-303ec2626aeb",
   "metadata": {},
   "source": [
    "Q3. What is an iterator in python? Name the method used to initialise the iterator object and the method\n",
    "used for iteration. Use these methods to print the first five elements of the given list [2, 4, 6, 8, 10, 12, 14,16, 18, 20].\n",
    "\n",
    "Ans.  Iterator in python is used to iterate over elements one by one.  Iterators provide a way to access element of a container (like a list, tuple, etc.) sequentially without the need to know the underlying structure of the container.\n",
    "\n",
    "To initialise the iterator object we used the iter() method and next() method is used for iteration."
   ]
  },
  {
   "cell_type": "code",
   "execution_count": 14,
   "id": "b4b1b09a-b038-4f74-bdf1-320e34815193",
   "metadata": {},
   "outputs": [
    {
     "name": "stdout",
     "output_type": "stream",
     "text": [
      "2\n",
      "4\n",
      "6\n",
      "8\n",
      "10\n"
     ]
    }
   ],
   "source": [
    "my_list = [2, 4, 6, 8, 10, 12, 14,16, 18, 20]\n",
    "iterator = iter(my_list)\n",
    "for i in range(5):\n",
    "    l = next(iterator)\n",
    "    print(l)\n",
    "\n"
   ]
  },
  {
   "cell_type": "markdown",
   "id": "3724616b-0579-4546-9ecc-ffbc7d4c401a",
   "metadata": {},
   "source": [
    "Q4. What is a generator function in python? Why yield keyword is used? Give an example of a generator\n",
    "function.\n",
    "\n",
    "Ans. Generator function returns an iterator that produce a sequence of values when iterated over. Genrators are useful when we want to produce a large sequence of values but don't want to store all of them in memory at once.\n",
    "\n",
    "yield keyword is used in a generator function to yield a vlaue to the caller and temporarily suspend the function's execution.This is similar to the return statement used for returning values . \n",
    "\n",
    "Exampled of a genrator funciton is below:"
   ]
  },
  {
   "cell_type": "code",
   "execution_count": 29,
   "id": "f296ca43-c156-4e64-827b-26673bc8154b",
   "metadata": {},
   "outputs": [],
   "source": [
    "# The below funciton is used to genrate the value less then n\n",
    "def count_test(n):\n",
    "    count = 1\n",
    "    while count < n:\n",
    "        yield count\n",
    "        count += 1"
   ]
  },
  {
   "cell_type": "code",
   "execution_count": 30,
   "id": "85e90d08-8191-418c-98e6-b70dcb0fb40f",
   "metadata": {},
   "outputs": [],
   "source": [
    "x = count_test(6)"
   ]
  },
  {
   "cell_type": "code",
   "execution_count": 31,
   "id": "05853fe7-ecf5-47e5-b96b-8fa3d4903040",
   "metadata": {},
   "outputs": [
    {
     "name": "stdout",
     "output_type": "stream",
     "text": [
      "1\n",
      "2\n",
      "3\n",
      "4\n",
      "5\n"
     ]
    }
   ],
   "source": [
    "for i in x:\n",
    "    print(i)"
   ]
  },
  {
   "cell_type": "code",
   "execution_count": 1,
   "id": "6e413a2c-841c-433b-8266-51e375db1442",
   "metadata": {},
   "outputs": [],
   "source": [
    "# Q5. Create a generator function for prime numbers less than 1000. Use the next() method to print the\n",
    "# first 20 prime numbers.\n",
    "\n",
    "# Ans\n",
    "def is_prime(num):\n",
    "    if num <= 1:\n",
    "        return False\n",
    "    if num <= 3:\n",
    "        return True\n",
    "    if num % 2 == 0 or num % 3 == 0:\n",
    "        return False\n",
    "    i = 5\n",
    "    while i * i <= num:\n",
    "        if num % i == 0 or num % (i + 2) == 0:\n",
    "            return False\n",
    "        i += 6\n",
    "    return True\n"
   ]
  },
  {
   "cell_type": "code",
   "execution_count": 2,
   "id": "ecbbeb06-f1e9-4aca-936a-32613b7f4fc1",
   "metadata": {},
   "outputs": [],
   "source": [
    "\n",
    "def prime_generator(limit):\n",
    "    num = 2\n",
    "    while num < limit:\n",
    "        if is_prime(num):\n",
    "            yield num\n",
    "        num += 1\n"
   ]
  },
  {
   "cell_type": "code",
   "execution_count": 3,
   "id": "d1f139b0-5285-4c7d-bf10-886a72a236fd",
   "metadata": {},
   "outputs": [],
   "source": [
    "prime_gen = prime_generator(1000)"
   ]
  },
  {
   "cell_type": "code",
   "execution_count": 4,
   "id": "194af35c-594a-494b-b791-e95e49d6506d",
   "metadata": {},
   "outputs": [
    {
     "name": "stdout",
     "output_type": "stream",
     "text": [
      "2\n",
      "3\n",
      "5\n",
      "7\n",
      "11\n",
      "13\n",
      "17\n",
      "19\n",
      "23\n",
      "29\n",
      "31\n",
      "37\n",
      "41\n",
      "43\n",
      "47\n",
      "53\n",
      "59\n",
      "61\n",
      "67\n",
      "71\n"
     ]
    }
   ],
   "source": [
    "for _ in range(20):\n",
    "    prime = next(prime_gen)\n",
    "    print(prime)"
   ]
  },
  {
   "cell_type": "code",
   "execution_count": 8,
   "id": "2bb87200-c0a2-48fe-84aa-cff739a57256",
   "metadata": {},
   "outputs": [],
   "source": [
    "# Q6. Write a python program to print the first 10 Fibonacci numbers using a while loop.\n",
    "\n",
    "#Ans:\n",
    "def print_fib(n):\n",
    "    a , b = 0,1\n",
    "    count = 0\n",
    "    while count<n:\n",
    "        print(a)\n",
    "        a , b = b , a+b\n",
    "        count += 1\n",
    "\n",
    "    "
   ]
  },
  {
   "cell_type": "code",
   "execution_count": 9,
   "id": "f756c8d4-a796-4c36-b096-e770670826c6",
   "metadata": {},
   "outputs": [
    {
     "name": "stdout",
     "output_type": "stream",
     "text": [
      "0\n",
      "1\n",
      "1\n",
      "2\n",
      "3\n",
      "5\n",
      "8\n",
      "13\n",
      "21\n",
      "34\n"
     ]
    }
   ],
   "source": [
    "print_fib(10)"
   ]
  },
  {
   "cell_type": "code",
   "execution_count": 16,
   "id": "d77f8202-0edd-4854-92c8-fe27d0e858d2",
   "metadata": {},
   "outputs": [
    {
     "name": "stdout",
     "output_type": "stream",
     "text": [
      "['p', 'w', 's', 'k', 'i', 'l', 'l', 's']\n"
     ]
    }
   ],
   "source": [
    "# Q7. Write a List Comprehension to iterate through the given string: ‘pwskills’.\n",
    "# Expected output: ['p', 'w', 's', 'k', 'i', 'l', 'l', 's']\n",
    "\n",
    "#Ans\n",
    "s = \"pwskills\"\n",
    "l = []\n",
    "for i in s:\n",
    "    l.append(i)\n",
    "print(l)\n"
   ]
  },
  {
   "cell_type": "code",
   "execution_count": 19,
   "id": "d9cdc9ac-4d10-4029-975a-3a8d2dc4b366",
   "metadata": {},
   "outputs": [],
   "source": [
    "# Q8. Write a python program to check whether a given number is Palindrome or not using a while loop.\n",
    "\n",
    "#Ans:\n",
    "def is_palindrome(num):\n",
    "    original_num = num\n",
    "    reversed_num = 0\n",
    "    \n",
    "    while num > 0:\n",
    "        digit = num % 10\n",
    "        reversed_num = reversed_num * 10 + digit\n",
    "        num //= 10\n",
    "    \n",
    "    return original_num == reversed_num\n"
   ]
  },
  {
   "cell_type": "code",
   "execution_count": 20,
   "id": "da69c637-d2ed-4bf9-ba78-f3539d709d05",
   "metadata": {},
   "outputs": [
    {
     "name": "stdin",
     "output_type": "stream",
     "text": [
      "Enter a number:  78\n"
     ]
    },
    {
     "name": "stdout",
     "output_type": "stream",
     "text": [
      "78 is not a palindrome.\n"
     ]
    }
   ],
   "source": [
    "num = int(input(\"Enter a number: \"))\n",
    "\n",
    "if is_palindrome(num):\n",
    "    print(num, \"is a palindrome.\")\n",
    "else:\n",
    "    print(num, \"is not a palindrome.\")\n"
   ]
  },
  {
   "cell_type": "code",
   "execution_count": 25,
   "id": "6d5da5b1-c0c3-4025-8192-8807718af689",
   "metadata": {},
   "outputs": [
    {
     "name": "stdout",
     "output_type": "stream",
     "text": [
      "[1, 3, 5, 7, 9, 11, 13, 15, 17, 19, 21, 23, 25, 27, 29, 31, 33, 35, 37, 39, 41, 43, 45, 47, 49, 51, 53, 55, 57, 59, 61, 63, 65, 67, 69, 71, 73, 75, 77, 79, 81, 83, 85, 87, 89, 91, 93, 95, 97, 99]\n"
     ]
    }
   ],
   "source": [
    "# Q9. Write a code to print odd numbers from 1 to 100 using list comprehension.\n",
    "\n",
    "#Ans\n",
    "\n",
    "l = []\n",
    "for i in range(1,100):\n",
    "    if(i%2 != 0):\n",
    "        l.append(i)\n",
    "print(l)"
   ]
  },
  {
   "cell_type": "code",
   "execution_count": null,
   "id": "63497ca1-c6ad-4f9a-b9c3-4c0b3b1e629a",
   "metadata": {},
   "outputs": [],
   "source": []
  }
 ],
 "metadata": {
  "kernelspec": {
   "display_name": "Python 3 (ipykernel)",
   "language": "python",
   "name": "python3"
  },
  "language_info": {
   "codemirror_mode": {
    "name": "ipython",
    "version": 3
   },
   "file_extension": ".py",
   "mimetype": "text/x-python",
   "name": "python",
   "nbconvert_exporter": "python",
   "pygments_lexer": "ipython3",
   "version": "3.10.8"
  }
 },
 "nbformat": 4,
 "nbformat_minor": 5
}
